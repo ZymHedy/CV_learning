{
 "cells": [
  {
   "cell_type": "code",
   "execution_count": 63,
   "metadata": {},
   "outputs": [],
   "source": [
    "#不使用numpy只用循环的方式\n",
    "import random\n",
    "import matplotlib.pyplot as plt"
   ]
  },
  {
   "cell_type": "markdown",
   "metadata": {},
   "source": [
    "## 线性回归模型 Linear Regression"
   ]
  },
  {
   "cell_type": "markdown",
   "metadata": {},
   "source": [
    "### 预测"
   ]
  },
  {
   "cell_type": "code",
   "execution_count": 64,
   "metadata": {},
   "outputs": [],
   "source": [
    "#对直线上的点进行预测\n",
    "def inference(w,b,x):\n",
    "    return w*x+b"
   ]
  },
  {
   "cell_type": "markdown",
   "metadata": {},
   "source": [
    "### 损失函数定义"
   ]
  },
  {
   "cell_type": "code",
   "execution_count": 65,
   "metadata": {},
   "outputs": [],
   "source": [
    "#MSE：avg_loss = (wx+b-y)^2/2m  m或者2可以省去\n",
    "def loss_function(w,b,x_list,gt_y_list):#gt=ground truth,指的是真实的标签的值\n",
    "    avg_loss = 0\n",
    "    for i in range(len(x_list)):\n",
    "        avg_loss += 0.5*(w*x_list[i]+b-gt_y_list[i])**2#此处的**2表示平方的意思\n",
    "    avg_loss /= len(gt_y_list)\n",
    "    return avg_loss\n",
    "    "
   ]
  },
  {
   "cell_type": "markdown",
   "metadata": {},
   "source": [
    "### 负梯度计算"
   ]
  },
  {
   "cell_type": "code",
   "execution_count": 57,
   "metadata": {},
   "outputs": [],
   "source": [
    "#梯度下降的做法\n",
    "#该函数定义的是单个点的当前梯度\n",
    "#针对的是线性模型y = wx + b\n",
    "def gradient(pred_y,gt_y,x):\n",
    "    diff = pred_y - gt_y#损失函数对sita0的偏导\n",
    "    dw = diff*x#损失函数对sita1的偏导\n",
    "    db = diff#此处的w,b分别对应sita1和sita0\n",
    "    return dw,db\n",
    "\n",
    "#随机梯度下降：只需要随机抽一些点加入负梯度的求解\n",
    "#从m个样本中抽取k个参与到梯度更新，其中k<m\n",
    "#这样做的目的是引入一些随机性，促进找到全局最优解"
   ]
  },
  {
   "cell_type": "markdown",
   "metadata": {},
   "source": [
    "### batch size个数的样本带来的梯度"
   ]
  },
  {
   "cell_type": "code",
   "execution_count": 58,
   "metadata": {},
   "outputs": [],
   "source": [
    "#计算梯度迭代\n",
    "#只选用样本的一部分\n",
    "def cal_step_gradient(batch_x_list,batch_gt_y_list,w,b,lr):#lr是学习率\n",
    "    avg_dw,avg_db = 0,0\n",
    "    batch_size = len(batch_x_list)\n",
    "    #根据梯度公式进行求和\n",
    "    for i in range(batch_size):\n",
    "        pred_y = inference(w,b,batch_x_list[i])\n",
    "        dw,db = gradient(pred_y,batch_gt_y_list[i],batch_x_list[i])\n",
    "        avg_dw += dw\n",
    "        avg_db += db\n",
    "        \n",
    "    avg_dw /= batch_size\n",
    "    avg_db /= batch_size\n",
    "    #梯度迭代，lr是学习率\n",
    "    w = w - lr*avg_dw\n",
    "    b = b - lr*avg_db\n",
    "    return w,b"
   ]
  },
  {
   "cell_type": "markdown",
   "metadata": {},
   "source": [
    "### 生成数据"
   ]
  },
  {
   "cell_type": "code",
   "execution_count": 59,
   "metadata": {},
   "outputs": [],
   "source": [
    "def gen_sample_data():\n",
    "    w = random.randint(0,10)+random.random()\n",
    "    b = random.randint(0, 5)+random.random()\n",
    "    \n",
    "    num_sample = 100\n",
    "    x_list = []\n",
    "    y_list = []\n",
    "    for i in range(num_sample):\n",
    "        x = random.randint(0,100)*random.random()\n",
    "        y = w*x+b+random.random()*random.randint(-1,100)\n",
    "        x_list.append(x)\n",
    "        y_list.append(y)\n",
    "    return x_list,y_list"
   ]
  },
  {
   "cell_type": "code",
   "execution_count": 60,
   "metadata": {},
   "outputs": [
    {
     "data": {
      "image/png": "[encoded data removed]",
      "text/plain": [
       "<Figure size 432x288 with 1 Axes>"
      ]
     },
     "metadata": {},
     "output_type": "display_data"
    }
   ],
   "source": [
    "x_list,y_list = gen_sample_data()\n",
    "plt.scatter(x_list,y_list)\n",
    "plt.show()"
   ]
  },
  {
   "cell_type": "code",
   "execution_count": 67,
   "metadata": {},
   "outputs": [],
   "source": [
    "def train(x_list,gt_y_list,batch_size,lr,max_iterations):\n",
    "    w,b = 0,0\n",
    "    num_sample = len(x_list)\n",
    "    for i in range(max_iterations):\n",
    "        batch_idxs = np.random.choice(len(x_list),batch_size)\n",
    "        batch_x = [x_list[j] for j in batch_idxs]#把x_list中的第j个元素赋值给顺序赋值给batch_x列表\n",
    "        batch_y = [y_list[j] for j in batch_idxs]#同上\n",
    "        w,b = cal_step_gradient(batch_x,batch_y,w,b,lr)\n",
    "        print('w:{0},b:{1}'.format(w,b))\n",
    "        print('loss:{}'.format(loss_function(w,b,x_list,gt_y_list)))\n",
    "    return w,b"
   ]
  },
  {
   "cell_type": "code",
   "execution_count": 69,
   "metadata": {},
   "outputs": [
    {
     "name": "stdout",
     "output_type": "stream",
     "text": [
      "w:5.533428012278696,b:0.1131420877443033\n",
      "loss:3774.8367097153537\n",
      "w:6.746666000596981,b:0.14592414460525022\n",
      "loss:1070.5116332146745\n",
      "w:7.475275420242843,b:0.16320861366697603\n",
      "loss:415.1501938672386\n",
      "w:7.822927043244887,b:0.1740804222928818\n",
      "loss:358.56453279959055\n",
      "w:7.700809326574283,b:0.17534670895749388\n",
      "loss:359.5239316078724\n",
      "w:7.74170652671449,b:0.1793177545708637\n",
      "loss:356.88744907393186\n",
      "w:7.883029565369922,b:0.18802145442946872\n",
      "loss:365.48982109994233\n",
      "w:7.613079613342516,b:0.18627628757781103\n",
      "loss:372.6601446198243\n",
      "w:7.736396186672238,b:0.19412051710333333\n",
      "loss:356.9427853847469\n",
      "w:7.654387862606358,b:0.19669344396405464\n",
      "loss:364.9743545791352\n",
      "w:7.612623510052022,b:0.20039010444667732\n",
      "loss:372.56238351121533\n",
      "w:7.7664312361064605,b:0.20687107230228025\n",
      "loss:356.17098529387613\n",
      "w:7.7362975583716596,b:0.21171143691282804\n",
      "loss:356.76663101622137\n",
      "w:7.8262881671181255,b:0.2176932018340457\n",
      "loss:358.48981451785943\n",
      "w:7.850919026628751,b:0.22201778650621162\n",
      "loss:360.8787521310639\n",
      "w:7.826657660162399,b:0.22610324708894514\n",
      "loss:358.4554216812292\n",
      "w:7.632441484325653,b:0.22656262675483027\n",
      "loss:368.2972940386051\n",
      "w:7.80059806502412,b:0.23276244825652034\n",
      "loss:356.7239738409233\n",
      "w:7.7427773136736455,b:0.2360554113520502\n",
      "loss:356.2793698955379\n",
      "w:7.7310779993547785,b:0.2389876401025053\n",
      "loss:356.7208464128185\n",
      "w:7.751767044604587,b:0.24517674871053818\n",
      "loss:355.95481508235935\n",
      "w:7.800518899969,b:0.25155467485108246\n",
      "loss:356.5625245088566\n",
      "w:7.808253966812024,b:0.2546057911974672\n",
      "loss:356.94272700800457\n",
      "w:7.698729820032968,b:0.25837689450771034\n",
      "loss:358.7788127129949\n",
      "w:7.763164503333435,b:0.264302190808568\n",
      "loss:355.6377062305\n",
      "w:7.752741229217254,b:0.2666507568942243\n",
      "loss:355.72719138707185\n",
      "w:7.659535454043633,b:0.2694810349411435\n",
      "loss:363.295942756524\n",
      "w:7.7254207643572785,b:0.273606744505245\n",
      "loss:356.6520082673995\n",
      "w:7.73964316266781,b:0.2803182977314952\n",
      "loss:355.94030995194765\n",
      "w:7.841861721563201,b:0.28684592975072587\n",
      "loss:359.4239925947261\n",
      "w:7.741809567711054,b:0.2885743195895037\n",
      "loss:355.78422845121014\n",
      "w:7.708614497686172,b:0.29371604307880006\n",
      "loss:357.5494018169755\n",
      "w:7.7858679162589945,b:0.2996532578587936\n",
      "loss:355.5973811385216\n",
      "w:7.79077696882325,b:0.30542742352412255\n",
      "loss:355.70358989625953\n",
      "w:7.799114469100439,b:0.3104976815863725\n",
      "loss:356.0028727412897\n",
      "w:7.738271155926164,b:0.3121175871440436\n",
      "loss:355.66888247717236\n",
      "w:7.816340408076138,b:0.3188769067161987\n",
      "loss:356.9465221355841\n",
      "w:7.792651559178844,b:0.32186144652019427\n",
      "loss:355.6316891601631\n",
      "w:7.770708843150525,b:0.3248773754915398\n",
      "loss:355.09267295391487\n",
      "w:7.815089818001334,b:0.33061413658767264\n",
      "loss:356.7665385040283\n",
      "w:7.828237001621035,b:0.3349370460744005\n",
      "loss:357.7626869363827\n",
      "w:7.79560592530225,b:0.3380517909282159\n",
      "loss:355.61410111766463\n",
      "w:7.792583614517896,b:0.342019728938245\n",
      "loss:355.45714560766515\n",
      "w:7.777962856914536,b:0.3456483791879353\n",
      "loss:355.00379215199706\n",
      "w:7.780348910972416,b:0.3504804965986717\n",
      "loss:355.0099581167716\n",
      "w:7.713990738101099,b:0.35271475853965323\n",
      "loss:356.51795611973915\n",
      "w:7.808668636156489,b:0.3612174212870439\n",
      "loss:356.10338519292515\n",
      "w:7.7512151542749965,b:0.3650312291501144\n",
      "loss:354.80012195455237\n",
      "w:7.766331891902559,b:0.3685879539623817\n",
      "loss:354.6644178265812\n",
      "w:7.818599981620254,b:0.3754582476676562\n",
      "loss:356.66949412961753\n",
      "w:7.720997427252081,b:0.3763114502710995\n",
      "loss:355.82394452028814\n",
      "w:7.719890783551705,b:0.382251521107501\n",
      "loss:355.8265348883864\n",
      "w:7.715855406736656,b:0.38692626306210864\n",
      "loss:356.0279969036315\n",
      "w:7.774484853060219,b:0.39449923812738363\n",
      "loss:354.5065155273711\n",
      "w:7.762364359523902,b:0.3996861138339195\n",
      "loss:354.3705382783358\n",
      "w:7.762754843928833,b:0.4051032575013195\n",
      "loss:354.3198900187263\n",
      "w:7.772180989239372,b:0.409091107340802\n",
      "loss:354.34252272261966\n",
      "w:7.591514593669464,b:0.4090986455647858\n",
      "loss:374.3555413907953\n",
      "w:7.748947620420916,b:0.4164062966588628\n",
      "loss:354.3438884307009\n",
      "w:7.780278848257279,b:0.421648152549197\n",
      "loss:354.38043844592755\n",
      "w:7.624271628935642,b:0.42257707255929305\n",
      "loss:367.23542624579045\n",
      "w:7.711590194518684,b:0.42734424517508407\n",
      "loss:355.8828607259661\n",
      "w:7.741117000184658,b:0.432283141444901\n",
      "loss:354.37588238025023\n",
      "w:7.835945707100484,b:0.44173957453843204\n",
      "loss:357.7027821637304\n",
      "w:7.704934003472889,b:0.4432472984383311\n",
      "loss:356.2028345797512\n",
      "w:7.718283649378824,b:0.44664777686367346\n",
      "loss:355.2445884520106\n",
      "w:7.864182146052166,b:0.4535756578657691\n",
      "loss:361.0220685323739\n",
      "w:7.798066920992557,b:0.45671443972521675\n",
      "loss:354.7376224973481\n",
      "w:7.714074458866097,b:0.46030314882458556\n",
      "loss:355.36358399866907\n",
      "w:7.69258498907072,b:0.4650809910567089\n",
      "loss:357.0278620448225\n",
      "w:7.767600292312772,b:0.4737318199142683\n",
      "loss:353.7083464466581\n",
      "w:7.801414997530705,b:0.4787157018673494\n",
      "loss:354.7319555918086\n",
      "w:7.886552781132249,b:0.4879499768229636\n",
      "loss:364.29640076786154\n",
      "w:7.822949090393702,b:0.4915127912327698\n",
      "loss:356.1315879758913\n",
      "w:7.7918565590480995,b:0.496049900301077\n",
      "loss:354.1257242500258\n",
      "w:7.635730204769582,b:0.49838440459893546\n",
      "loss:364.1846202086274\n",
      "w:7.757899769147809,b:0.5061983595897448\n",
      "loss:353.38809343703065\n",
      "w:7.741371079592873,b:0.5098416957808114\n",
      "loss:353.6054085850519\n",
      "w:7.644646015026164,b:0.5132686356750408\n",
      "loss:362.5248059234071\n",
      "w:7.80391758651286,b:0.5200469712661114\n",
      "loss:354.5408538682765\n",
      "w:7.8432379834878905,b:0.5247712660452075\n",
      "loss:357.89841744527234\n",
      "w:7.713351333315057,b:0.5276137751931289\n",
      "loss:354.6970010189338\n",
      "w:7.76675513415284,b:0.5332916632841175\n",
      "loss:353.16045122321106\n",
      "w:7.725525981895226,b:0.5364764348853241\n",
      "loss:353.92452469530923\n",
      "w:7.755093401915204,b:0.5408308388787132\n",
      "loss:353.0792146118754\n",
      "w:7.670085876978038,b:0.543588715959663\n",
      "loss:358.5721012135614\n",
      "w:7.7653497162342555,b:0.5499287442926798\n",
      "loss:352.9980906814945\n",
      "w:7.734491529267162,b:0.5530449903593018\n",
      "loss:353.3892477422492\n",
      "w:7.6572399668460065,b:0.5568845654424696\n",
      "loss:360.1043040728796\n",
      "w:7.715139679961998,b:0.5614808104083414\n",
      "loss:354.2282619063931\n",
      "w:7.774963246105052,b:0.5660016641713693\n",
      "loss:352.9911735876464\n",
      "w:7.6970977268127765,b:0.5702717513363382\n",
      "loss:355.4534352580763\n",
      "w:7.687967089259978,b:0.5739086220989027\n",
      "loss:356.2488851614058\n",
      "w:7.814228093982262,b:0.5827677827613817\n",
      "loss:354.7424530586366\n",
      "w:7.77922430407254,b:0.5849843916019909\n",
      "loss:352.92871640031245\n",
      "w:7.791353921841844,b:0.5904135809767932\n",
      "loss:353.3164729276744\n",
      "w:7.7868693692004465,b:0.5937638128836328\n",
      "loss:353.1040518821025\n",
      "w:7.806680217385184,b:0.5995301261090463\n",
      "loss:354.08182230445215\n",
      "w:7.69870504408325,b:0.6008505630647333\n",
      "loss:354.9837176107511\n",
      "w:7.726269622508899,b:0.6076436826918433\n",
      "loss:353.1661647694254\n"
     ]
    },
    {
     "data": {
      "text/plain": [
       "(7.726269622508899, 0.6076436826918433)"
      ]
     },
     "execution_count": 69,
     "metadata": {},
     "output_type": "execute_result"
    }
   ],
   "source": [
    "train(x_list,y_list,60,0.0005,100)"
   ]
  },
  {
   "cell_type": "code",
   "execution_count": null,
   "metadata": {},
   "outputs": [],
   "source": []
  }
 ],
 "metadata": {
  "kernelspec": {
   "display_name": "Python 3",
   "language": "python",
   "name": "python3"
  },
  "language_info": {
   "codemirror_mode": {
    "name": "ipython",
    "version": 3
   },
   "file_extension": ".py",
   "mimetype": "text/x-python",
   "name": "python",
   "nbconvert_exporter": "python",
   "pygments_lexer": "ipython3",
   "version": "3.6.5"
  }
 },
 "nbformat": 4,
 "nbformat_minor": 2
}
