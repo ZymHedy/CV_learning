{
 "cells": [
  {
   "cell_type": "code",
   "execution_count": null,
   "metadata": {},
   "outputs": [],
   "source": [
    "#附加作业，更换id图片背景\n",
    "#我更换id图像失败了，所以只更换一个草莓的\n",
    "Strawberry=cv2.imread(\"strawberry.jpg\")\n",
    "rows,cols,channels = np.shape(Strawberry)\n",
    "Lower = np.array([0, 0, 100])\n",
    "Upper = np.array([40, 40, 255])\n",
    "Binary = cv2.inRange(Strawberry, Lower, Upper)\n",
    "cv2.imwrite(\"extracted.jpg\")\n",
    "for i in range(rows):\n",
    "    for j in range(cols):\n",
    "        if dilate[i,j]==0:\n",
    "            Strawberry[i,j]=(0,0,255)#此处替换颜色，为BGR通道\n",
    "cv2.imshow('res',Strawberry)\n",
    "cv2.waitKey(0)\n"
   ]
  }
 ],
 "metadata": {
  "kernelspec": {
   "display_name": "Python 3",
   "language": "python",
   "name": "python3"
  },
  "language_info": {
   "codemirror_mode": {
    "name": "ipython",
    "version": 3
   },
   "file_extension": ".py",
   "mimetype": "text/x-python",
   "name": "python",
   "nbconvert_exporter": "python",
   "pygments_lexer": "ipython3",
   "version": "3.6.5"
  }
 },
 "nbformat": 4,
 "nbformat_minor": 2
}
