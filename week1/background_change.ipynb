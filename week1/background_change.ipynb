{
 "cells": [
  {
   "cell_type": "code",
   "execution_count": null,
   "metadata": {},
   "outputs": [],
   "source": [
    "\"\"\"\n",
    "author:zym\n",
    "target:change the background color of id_photo\n",
    "\"\"\""
   ]
  },
  {
   "cell_type": "code",
   "execution_count": 2,
   "metadata": {},
   "outputs": [],
   "source": [
    "import cv2\n",
    "import numpy as np"
   ]
  },
  {
   "cell_type": "code",
   "execution_count": 3,
   "metadata": {},
   "outputs": [],
   "source": [
    "#附加作业，更换id图片背景颜色\n",
    "img_id=cv2.imread(\"id_photo.jpg\")\n",
    "rows,cols,channels = img_id.shape\n",
    "\n",
    "# cv2.imshow(\"input\",img_id)\n",
    "# cv2.waitKey(0)\n",
    "#转换hsv\n",
    "hsv = cv2.cvtColor(img_id,cv2.COLOR_BGR2HSV)\n",
    "#获取mask\n",
    "lower = np.array([79,20,100])#lower和upper的值如何选择尚待研究\n",
    "upper = np.array([150,255,255])\n",
    "mask = cv2.inRange(hsv,lower,upper)\n",
    "cv2.imshow(\"mask\",mask)\n",
    "\n",
    "#腐蚀膨胀\n",
    "erode = cv2.erode(mask,None,iterations=1)\n",
    "cv2.imshow(\"erode\",erode)\n",
    "dilate = cv2.dilate(erode,None,iterations=1)\n",
    "cv2.imshow(\"dilate\",dilate)\n",
    "\n",
    "#经过以上操作，背景是白色，要提取的目标是黑色\n",
    "#遍历替换\n",
    "#在原图中把背景对应的部分更换成红色\n",
    "for i in range(rows):\n",
    "    for j in range(cols):\n",
    "        if dilate[i,j]==255:#背景部分是白色\n",
    "            img_id[i,j] = (0,0,255)\n",
    "cv2.imshow(\"img_id\",img_id)\n",
    "            \n",
    "\n",
    "cv2.waitKey(0)\n",
    "cv2.destroyAllWindows()\n"
   ]
  },
  {
   "cell_type": "code",
   "execution_count": null,
   "metadata": {},
   "outputs": [],
   "source": []
  }
 ],
 "metadata": {
  "kernelspec": {
   "display_name": "Python 3",
   "language": "python",
   "name": "python3"
  },
  "language_info": {
   "codemirror_mode": {
    "name": "ipython",
    "version": 3
   },
   "file_extension": ".py",
   "mimetype": "text/x-python",
   "name": "python",
   "nbconvert_exporter": "python",
   "pygments_lexer": "ipython3",
   "version": "3.6.5"
  }
 },
 "nbformat": 4,
 "nbformat_minor": 2
}
