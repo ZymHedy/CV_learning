{
 "cells": [
  {
   "cell_type": "code",
   "execution_count": 6,
   "metadata": {},
   "outputs": [],
   "source": [
    "import cv2"
   ]
  },
  {
   "cell_type": "code",
   "execution_count": 7,
   "metadata": {},
   "outputs": [],
   "source": [
    "bk = cv2.imread(\"id_photo.jpg\")\n",
    "logo = cv2.imread(\"zhong.jpg\")\n",
    "# cv2.imshow(\"zhong\",logo)\n",
    "# # print(bk.shape)\n",
    "# cv2.waitKey(0)\n",
    "# cv2.destroyAllWindows()"
   ]
  },
  {
   "cell_type": "code",
   "execution_count": 8,
   "metadata": {},
   "outputs": [],
   "source": [
    "#创建一个ROI：目的是为了在背景图上划分一份区域用于logo的添加\n",
    "rows,cols,channels = logo.shape\n",
    "roi = bk[0:rows,0:cols]#roi的大小和logo的大小一致"
   ]
  },
  {
   "cell_type": "code",
   "execution_count": 10,
   "metadata": {},
   "outputs": [],
   "source": [
    "logo_gray = cv2.cvtColor(logo,cv2.COLOR_BGR2GRAY)#转化灰度图供下一行图像阈值划分使用\n",
    "#图像阈值函数，结果是得到二值化图像\n",
    "#参数解释：1灰度图 2阈值 3大于或小于阈值后的值 4阈值的使用规则\n",
    "#返回值：ret是阈值，mask是生成的二值化图像\n",
    "#标记cv2.THRESH_BINARY:大于阈值的置为参数3，否则置为0\n",
    "ret,mask = cv2.threshold(logo_gray,175,255,cv2.THRESH_BINARY)\n",
    "# cv2.imshow(\"mask\",mask)\n",
    "\n",
    "#得到与mask黑白相反的mask\n",
    "mask_inv = cv2.bitwise_not(mask)\n",
    "# cv2.imshow(\"inv\",mask_inv)\n",
    "# cv2.waitKey(0)\n",
    "# cv2.destroyAllWindows()"
   ]
  },
  {
   "cell_type": "code",
   "execution_count": 15,
   "metadata": {},
   "outputs": [],
   "source": [
    "#mask和bk上crop出的覆盖区域roi进行与运算\n",
    "bk_update = cv2.bitwise_and(roi,roi,mask=mask)#roi上打出logo\n",
    "cv2.imshow(\"bkup\",bk_update)\n",
    "logo_update = cv2.bitwise_and(logo,logo,mask=mask_inv)#不能省略！但是我还没明白他的意义是什么！\n",
    "cv2.imshow(\"logo_up\",logo_update)\n",
    "\n",
    "cv2.waitKey(0)\n",
    "cv2.destroyAllWindows()"
   ]
  },
  {
   "cell_type": "code",
   "execution_count": 16,
   "metadata": {},
   "outputs": [],
   "source": [
    "dst = cv2.add(bk_update,logo_update)\n",
    "bk[0:rows,0:cols] = dst#生成的加和部分赋值给背景图\n",
    "cv2.imshow(\"bk\",bk)\n",
    "cv2.waitKey(0)\n",
    "cv2.destroyAllWindows()"
   ]
  },
  {
   "cell_type": "code",
   "execution_count": null,
   "metadata": {},
   "outputs": [],
   "source": []
  }
 ],
 "metadata": {
  "kernelspec": {
   "display_name": "Python 3",
   "language": "python",
   "name": "python3"
  },
  "language_info": {
   "codemirror_mode": {
    "name": "ipython",
    "version": 3
   },
   "file_extension": ".py",
   "mimetype": "text/x-python",
   "name": "python",
   "nbconvert_exporter": "python",
   "pygments_lexer": "ipython3",
   "version": "3.6.5"
  }
 },
 "nbformat": 4,
 "nbformat_minor": 2
}
