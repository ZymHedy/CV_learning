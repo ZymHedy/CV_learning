{
 "cells": [
  {
   "cell_type": "markdown",
   "metadata": {},
   "source": [
    "![](https://img.kaikeba.com/web/kkb_index/img_index_logo.png)"
   ]
  },
  {
   "cell_type": "markdown",
   "metadata": {},
   "source": [
    "# Lesson-01 Assignment"
   ]
  },
  {
   "cell_type": "markdown",
   "metadata": {},
   "source": [
    "   各位同学大家好，欢迎各位开始学习我们的人工智能课程。这门课程假设大家不具备机器学习和人工智能的知识，但是希望大家具备初级的Python编程能力。根据往期同学的实际反馈，我们课程的完结之后 能力能够超过80%的计算机人工智能/深度学习方向的硕士生的能力。"
   ]
  },
  {
   "cell_type": "markdown",
   "metadata": {},
   "source": [
    "## 本次作业的内容"
   ]
  },
  {
   "cell_type": "markdown",
   "metadata": {},
   "source": [
    "### 1. Recode all examples;"
   ]
  },
  {
   "cell_type": "markdown",
   "metadata": {},
   "source": [
    "### 2. Please answer some questions about our course. We do appreciate your help."
   ]
  },
  {
   "cell_type": "markdown",
   "metadata": {},
   "source": [
    "   2.1  What do you want to get in this course? "
   ]
  },
  {
   "cell_type": "markdown",
   "metadata": {},
   "source": [
    "Answer:向了解学习全面的cv的知识，并提升自己的代码实践能力"
   ]
  },
  {
   "cell_type": "markdown",
   "metadata": {},
   "source": [
    "2.2 What problems do you want to solve? "
   ]
  },
  {
   "cell_type": "markdown",
   "metadata": {},
   "source": [
    "Answer:cv的基础知识，如何上手实现代码"
   ]
  },
  {
   "cell_type": "markdown",
   "metadata": {},
   "source": [
    " 2.3 What advantages do you have to accomplish your goal?"
   ]
  },
  {
   "cell_type": "markdown",
   "metadata": {},
   "source": [
    "Answer:有毅力，扎实的数学基础和一定的python基础"
   ]
  },
  {
   "cell_type": "markdown",
   "metadata": {},
   "source": [
    " 2.4 What disadvantages you need to overcome to accomplish your goal?"
   ]
  },
  {
   "cell_type": "markdown",
   "metadata": {},
   "source": [
    "Answer:容易急躁，上手能力差"
   ]
  },
  {
   "cell_type": "markdown",
   "metadata": {},
   "source": [
    "2.5 How will you plan to study in this course? "
   ]
  },
  {
   "cell_type": "markdown",
   "metadata": {},
   "source": [
    "Answer:跟着老师边学边做，并且多思考多努力"
   ]
  },
  {
   "cell_type": "markdown",
   "metadata": {},
   "source": [
    "### 3. 如何提交"
   ]
  },
  {
   "cell_type": "markdown",
   "metadata": {},
   "source": [
    "答疑平台提交，具体方式，见作业提交指南"
   ]
  },
  {
   "cell_type": "markdown",
   "metadata": {},
   "source": [
    "### 4. 作业截止时间"
   ]
  },
  {
   "cell_type": "markdown",
   "metadata": {},
   "source": [
    "作业能帮助你回顾课堂内容，你又可以通过作业进行代码实操。咱们可要认真、及时的完成作业哦！自布置作业起两周内提交，助教及时批改作业哦～逾期提交不批改。（特殊情况，请找班主任请假。）"
   ]
  },
  {
   "cell_type": "markdown",
   "metadata": {},
   "source": [
    "### 5. 完成以下问答和编程练习"
   ]
  },
  {
   "cell_type": "markdown",
   "metadata": {},
   "source": [
    "5.1  Please combine **image crop, color shift, rotation and perspective transform** together to complete a data augmentation script.\n",
    "   Your code need to be completed in Python/C++ in .py or .cpp file with comments and readme file to indicate how to use."
   ]
  },
  {
   "cell_type": "code",
   "execution_count": 12,
   "metadata": {},
   "outputs": [],
   "source": [
    "import cv2\n",
    "import random\n",
    "import numpy as np"
   ]
  },
  {
   "cell_type": "code",
   "execution_count": 13,
   "metadata": {},
   "outputs": [],
   "source": [
    "img_ori = cv2.imread('lenna.jpg')\n",
    "# print(np.shape(img_ori))\n",
    "# cv2.imshow('ori_img',img_ori)\n",
    "# cv2.waitKey(0)"
   ]
  },
  {
   "cell_type": "code",
   "execution_count": 14,
   "metadata": {},
   "outputs": [],
   "source": [
    "def image_crop(img):\n",
    "    return img_ori[200:300,150:300]\n",
    "\n",
    "crop_img = image_crop(img_ori)\n",
    "# cv2.imshow(\"crop\",crop_img)\n",
    "# cv2.waitKey(0)"
   ]
  },
  {
   "cell_type": "code",
   "execution_count": 15,
   "metadata": {},
   "outputs": [],
   "source": [
    "def color_shift(img,increase,decrease):\n",
    "    B,G,R = cv2.split(img)\n",
    "    b_lim = 255 - increase\n",
    "    B[B>b_lim] = 255\n",
    "    B[B<=b_lim] = (B[B<=b_lim] + increase).astype(img_ori.dtype)\n",
    "    \n",
    "    r_lim = decrease\n",
    "    R[R<r_lim] = 0\n",
    "    R[R>=r_lim] = (R[R>=r_lim] - decrease).astype(img_ori.dtype)\n",
    "    \n",
    "    shift_img = cv2.merge((B,G,R))\n",
    "    return shift_img\n",
    "\n",
    "shift_img = color_shift(img_ori,50,30)\n",
    "# cv2.imshow('shift',shift_img)\n",
    "# cv2.waitKey(0)\n",
    "    "
   ]
  },
  {
   "cell_type": "code",
   "execution_count": 16,
   "metadata": {},
   "outputs": [],
   "source": [
    "def rotation(img,angle,scale):\n",
    "    #center,angle,scale\n",
    "    M = cv2.getRotationMatrix2D((img.shape[1]/2,img.shape[0]/2),angle,scale)\n",
    "    rotate_img = cv2.warpAffine(img,M,(img.shape[1],img.shape[0]))\n",
    "    return rotate_img\n",
    "rotate_img = rotation(img_ori,45,1)\n",
    "# cv2.imshow('rotation',rotate_img)\n",
    "# cv2.waitKey(0)"
   ]
  },
  {
   "cell_type": "code",
   "execution_count": 17,
   "metadata": {},
   "outputs": [],
   "source": [
    "def perspective_transform(img):\n",
    "    pts1 = np.float32([[50,60],[100,103],[205,300],[480,500]])\n",
    "    pts2 = np.float32([[78,32],[55,67],[188,430],[200,320]])\n",
    "    M = cv2.getPerspectiveTransform(pts1,pts2)\n",
    "    perspect_img = cv2.warpPerspective(img,M,(img.shape[1],img.shape[0]))\n",
    "    \n",
    "    return perspect_img\n",
    "perspect_img = perspective_transform(img_ori)\n",
    "# cv2.imshow('perspect',perspect_img)\n",
    "# cv2.waitKey(0)"
   ]
  },
  {
   "cell_type": "markdown",
   "metadata": {},
   "source": [
    "各位同学，你已经把课上关于图像增广实现了！CV的领域很广，咱们需要思考兴趣点在哪～"
   ]
  },
  {
   "cell_type": "markdown",
   "metadata": {},
   "source": [
    "5.2  Do think about your own interests very carefully and choose your topic within 3 weeks."
   ]
  },
  {
   "cell_type": "markdown",
   "metadata": {},
   "source": [
    "Answer:目前比较想做识别和分类这方面，目标检测也可以"
   ]
  },
  {
   "cell_type": "markdown",
   "metadata": {},
   "source": [
    "这次的作业就到这里了！祝大家学习进步！"
   ]
  },
  {
   "cell_type": "markdown",
   "metadata": {},
   "source": [
    "![image alt <](http://5b0988e595225.cdn.sohucs.com/images/20190420/1d1070881fd540db817b2a3bdd967f37.gif)"
   ]
  }
 ],
 "metadata": {
  "kernelspec": {
   "display_name": "Python 3",
   "language": "python",
   "name": "python3"
  },
  "language_info": {
   "codemirror_mode": {
    "name": "ipython",
    "version": 3
   },
   "file_extension": ".py",
   "mimetype": "text/x-python",
   "name": "python",
   "nbconvert_exporter": "python",
   "pygments_lexer": "ipython3",
   "version": "3.6.5"
  }
 },
 "nbformat": 4,
 "nbformat_minor": 2
}
